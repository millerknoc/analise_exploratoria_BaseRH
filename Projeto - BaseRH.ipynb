{
 "cells": [
  {
   "cell_type": "markdown",
   "id": "e91eea17-6870-4b9e-af5d-8870646a22ee",
   "metadata": {},
   "source": [
    "# Projeto Base RH\n",
    "\n",
    "Utilizei um dataset fictício disponibilizado pela 'Dataside' com dados de funcionários com categorias de salário, admissão, função, nivel de escolaridade e experiência na área."
   ]
  },
  {
   "cell_type": "code",
   "execution_count": 16,
   "id": "b5eaaf2e-e696-4ea5-8156-5f4bd3ceb808",
   "metadata": {},
   "outputs": [],
   "source": [
    "# Importando as bibliotecas necessárias\n",
    "\n",
    "# Bibliotecas para modelagem e matrizes\n",
    "import pandas as pd\n",
    "import numpy as np\n",
    "\n",
    "# Bibliotecas para análises gráficas\n",
    "import matplotlib.pyplot as plt\n",
    "import seaborn as sns\n",
    "\n",
    "# Biblioteca para ignorar avisos\n",
    "import warnings\n",
    "\n",
    "# Desativando avisos\n",
    "warnings.filterwarnings('ignore')"
   ]
  },
  {
   "cell_type": "code",
   "execution_count": 2,
   "id": "76bfff36-d6db-4b68-8d57-cb2c6369e7f7",
   "metadata": {},
   "outputs": [
    {
     "data": {
      "text/html": [
       "<div>\n",
       "<style scoped>\n",
       "    .dataframe tbody tr th:only-of-type {\n",
       "        vertical-align: middle;\n",
       "    }\n",
       "\n",
       "    .dataframe tbody tr th {\n",
       "        vertical-align: top;\n",
       "    }\n",
       "\n",
       "    .dataframe thead th {\n",
       "        text-align: right;\n",
       "    }\n",
       "</style>\n",
       "<table border=\"1\" class=\"dataframe\">\n",
       "  <thead>\n",
       "    <tr style=\"text-align: right;\">\n",
       "      <th></th>\n",
       "      <th>colaborador</th>\n",
       "      <th>genero</th>\n",
       "      <th>data_nascimento</th>\n",
       "      <th>data_de_admissao</th>\n",
       "      <th>Unnamed: 5</th>\n",
       "      <th>escolaridade</th>\n",
       "      <th>cargo</th>\n",
       "      <th>setor</th>\n",
       "      <th>salario</th>\n",
       "      <th>hoje</th>\n",
       "      <th>xp</th>\n",
       "    </tr>\n",
       "    <tr>\n",
       "      <th>ID</th>\n",
       "      <th></th>\n",
       "      <th></th>\n",
       "      <th></th>\n",
       "      <th></th>\n",
       "      <th></th>\n",
       "      <th></th>\n",
       "      <th></th>\n",
       "      <th></th>\n",
       "      <th></th>\n",
       "      <th></th>\n",
       "      <th></th>\n",
       "    </tr>\n",
       "  </thead>\n",
       "  <tbody>\n",
       "    <tr>\n",
       "      <th>1</th>\n",
       "      <td>Leila Diniz</td>\n",
       "      <td>Feminino</td>\n",
       "      <td>1989-08-17</td>\n",
       "      <td>2011-10-02</td>\n",
       "      <td>NaN</td>\n",
       "      <td>Ensino técnico</td>\n",
       "      <td>Administrador</td>\n",
       "      <td>Administrativo</td>\n",
       "      <td>4500</td>\n",
       "      <td>2022-11-16</td>\n",
       "      <td>11.131507</td>\n",
       "    </tr>\n",
       "    <tr>\n",
       "      <th>3</th>\n",
       "      <td>Margaret Thatcher</td>\n",
       "      <td>Feminino</td>\n",
       "      <td>1981-04-18</td>\n",
       "      <td>2012-08-24</td>\n",
       "      <td>NaN</td>\n",
       "      <td>Superior incompleto</td>\n",
       "      <td>Analista Administrativo</td>\n",
       "      <td>Administrativo</td>\n",
       "      <td>1900</td>\n",
       "      <td>2022-11-16</td>\n",
       "      <td>10.235616</td>\n",
       "    </tr>\n",
       "    <tr>\n",
       "      <th>41</th>\n",
       "      <td>Cicero L. Lima</td>\n",
       "      <td>Masculino</td>\n",
       "      <td>1983-01-28</td>\n",
       "      <td>2013-12-19</td>\n",
       "      <td>NaN</td>\n",
       "      <td>Mestre</td>\n",
       "      <td>Analista Administrativo</td>\n",
       "      <td>Administrativo</td>\n",
       "      <td>1900</td>\n",
       "      <td>2022-11-16</td>\n",
       "      <td>8.915068</td>\n",
       "    </tr>\n",
       "    <tr>\n",
       "      <th>4</th>\n",
       "      <td>Eva Perón</td>\n",
       "      <td>Feminino</td>\n",
       "      <td>2002-10-31</td>\n",
       "      <td>2012-11-12</td>\n",
       "      <td>NaN</td>\n",
       "      <td>Superior completo</td>\n",
       "      <td>Analista Contábil</td>\n",
       "      <td>Administrativo</td>\n",
       "      <td>2200</td>\n",
       "      <td>2022-11-16</td>\n",
       "      <td>10.016438</td>\n",
       "    </tr>\n",
       "    <tr>\n",
       "      <th>42</th>\n",
       "      <td>Caio Soares Modesto</td>\n",
       "      <td>Masculino</td>\n",
       "      <td>1991-06-10</td>\n",
       "      <td>2014-02-20</td>\n",
       "      <td>NaN</td>\n",
       "      <td>Doutor</td>\n",
       "      <td>Analista Contábil</td>\n",
       "      <td>Administrativo</td>\n",
       "      <td>2200</td>\n",
       "      <td>2022-11-16</td>\n",
       "      <td>8.742466</td>\n",
       "    </tr>\n",
       "  </tbody>\n",
       "</table>\n",
       "</div>"
      ],
      "text/plain": [
       "            colaborador     genero data_nascimento data_de_admissao  \\\n",
       "ID                                                                    \n",
       "1           Leila Diniz   Feminino      1989-08-17       2011-10-02   \n",
       "3     Margaret Thatcher   Feminino      1981-04-18       2012-08-24   \n",
       "41       Cicero L. Lima  Masculino      1983-01-28       2013-12-19   \n",
       "4             Eva Perón   Feminino      2002-10-31       2012-11-12   \n",
       "42  Caio Soares Modesto  Masculino      1991-06-10       2014-02-20   \n",
       "\n",
       "    Unnamed: 5         escolaridade                    cargo           setor  \\\n",
       "ID                                                                             \n",
       "1          NaN       Ensino técnico            Administrador  Administrativo   \n",
       "3          NaN  Superior incompleto  Analista Administrativo  Administrativo   \n",
       "41         NaN               Mestre  Analista Administrativo  Administrativo   \n",
       "4          NaN    Superior completo        Analista Contábil  Administrativo   \n",
       "42         NaN               Doutor        Analista Contábil  Administrativo   \n",
       "\n",
       "    salario       hoje         xp  \n",
       "ID                                 \n",
       "1      4500 2022-11-16  11.131507  \n",
       "3      1900 2022-11-16  10.235616  \n",
       "41     1900 2022-11-16   8.915068  \n",
       "4      2200 2022-11-16  10.016438  \n",
       "42     2200 2022-11-16   8.742466  "
      ]
     },
     "execution_count": 2,
     "metadata": {},
     "output_type": "execute_result"
    }
   ],
   "source": [
    "# Lendo arquivo\n",
    "\n",
    "dados = pd.read_excel('BaseRH.xlsx', index_col=0)\n",
    "\n",
    "dados.head()"
   ]
  },
  {
   "cell_type": "code",
   "execution_count": 3,
   "id": "274f61f5-573b-4218-af5f-7045e1f1cfce",
   "metadata": {},
   "outputs": [],
   "source": [
    "# Veriquei que a coluna 'Unnamed: 5' apresenta apenas valores nulos, por isso resolve remove-la\n",
    "dados = dados.dropna(axis=1)"
   ]
  },
  {
   "cell_type": "code",
   "execution_count": 4,
   "id": "b79365d4-b06a-460a-a936-b2a4c1f4ddad",
   "metadata": {},
   "outputs": [
    {
     "data": {
      "text/plain": [
       "colaborador         0\n",
       "genero              0\n",
       "data_nascimento     0\n",
       "data_de_admissao    0\n",
       "escolaridade        0\n",
       "cargo               0\n",
       "setor               0\n",
       "salario             0\n",
       "hoje                0\n",
       "xp                  0\n",
       "dtype: int64"
      ]
     },
     "execution_count": 4,
     "metadata": {},
     "output_type": "execute_result"
    }
   ],
   "source": [
    "# Verificando se ainda existem campos nulos\n",
    "\n",
    "dados.isnull().sum()"
   ]
  },
  {
   "cell_type": "code",
   "execution_count": 5,
   "id": "40ab19ca-998a-415c-8614-75a22b468d1f",
   "metadata": {},
   "outputs": [
    {
     "data": {
      "text/plain": [
       "(90, 10)"
      ]
     },
     "execution_count": 5,
     "metadata": {},
     "output_type": "execute_result"
    }
   ],
   "source": [
    "# Dimensão\n",
    "dados.shape"
   ]
  },
  {
   "cell_type": "code",
   "execution_count": 6,
   "id": "b4a005f1-66e6-48ba-8070-48a8699995c1",
   "metadata": {},
   "outputs": [
    {
     "data": {
      "image/png": "[encoded data removed]",
      "text/plain": [
       "<Figure size 432x288 with 1 Axes>"
      ]
     },
     "metadata": {
      "needs_background": "light"
     },
     "output_type": "display_data"
    }
   ],
   "source": [
    "# Grafico dos nulos\n",
    "sns.heatmap(dados.isnull(), cbar=False);"
   ]
  },
  {
   "cell_type": "code",
   "execution_count": 7,
   "id": "215dca7c-fe3a-488f-9c56-223600205af2",
   "metadata": {},
   "outputs": [
    {
     "data": {
      "text/html": [
       "<div>\n",
       "<style scoped>\n",
       "    .dataframe tbody tr th:only-of-type {\n",
       "        vertical-align: middle;\n",
       "    }\n",
       "\n",
       "    .dataframe tbody tr th {\n",
       "        vertical-align: top;\n",
       "    }\n",
       "\n",
       "    .dataframe thead th {\n",
       "        text-align: right;\n",
       "    }\n",
       "</style>\n",
       "<table border=\"1\" class=\"dataframe\">\n",
       "  <thead>\n",
       "    <tr style=\"text-align: right;\">\n",
       "      <th></th>\n",
       "      <th>salario</th>\n",
       "      <th>xp</th>\n",
       "    </tr>\n",
       "  </thead>\n",
       "  <tbody>\n",
       "    <tr>\n",
       "      <th>count</th>\n",
       "      <td>90.000000</td>\n",
       "      <td>90.000000</td>\n",
       "    </tr>\n",
       "    <tr>\n",
       "      <th>mean</th>\n",
       "      <td>3716.822222</td>\n",
       "      <td>6.466423</td>\n",
       "    </tr>\n",
       "    <tr>\n",
       "      <th>std</th>\n",
       "      <td>1707.422254</td>\n",
       "      <td>2.218326</td>\n",
       "    </tr>\n",
       "    <tr>\n",
       "      <th>min</th>\n",
       "      <td>190.000000</td>\n",
       "      <td>2.923288</td>\n",
       "    </tr>\n",
       "    <tr>\n",
       "      <th>25%</th>\n",
       "      <td>2890.000000</td>\n",
       "      <td>4.632877</td>\n",
       "    </tr>\n",
       "    <tr>\n",
       "      <th>50%</th>\n",
       "      <td>3900.000000</td>\n",
       "      <td>6.534247</td>\n",
       "    </tr>\n",
       "    <tr>\n",
       "      <th>75%</th>\n",
       "      <td>4218.750000</td>\n",
       "      <td>7.814384</td>\n",
       "    </tr>\n",
       "    <tr>\n",
       "      <th>max</th>\n",
       "      <td>9000.000000</td>\n",
       "      <td>11.772603</td>\n",
       "    </tr>\n",
       "  </tbody>\n",
       "</table>\n",
       "</div>"
      ],
      "text/plain": [
       "           salario         xp\n",
       "count    90.000000  90.000000\n",
       "mean   3716.822222   6.466423\n",
       "std    1707.422254   2.218326\n",
       "min     190.000000   2.923288\n",
       "25%    2890.000000   4.632877\n",
       "50%    3900.000000   6.534247\n",
       "75%    4218.750000   7.814384\n",
       "max    9000.000000  11.772603"
      ]
     },
     "execution_count": 7,
     "metadata": {},
     "output_type": "execute_result"
    }
   ],
   "source": [
    "# Análise estatística\n",
    "dados.describe()"
   ]
  },
  {
   "cell_type": "code",
   "execution_count": 8,
   "id": "51a74588-baf3-4b4d-ac4a-80397f9d8359",
   "metadata": {},
   "outputs": [
    {
     "data": {
      "image/png": "[encoded data removed]",
      "text/plain": [
       "<Figure size 720x432 with 1 Axes>"
      ]
     },
     "metadata": {
      "needs_background": "light"
     },
     "output_type": "display_data"
    }
   ],
   "source": [
    "# Plotando um gráfico com coluna 'salario'\n",
    "plt.figure(figsize=(10,6))\n",
    "plt.title('Análise da Renda')\n",
    "sns.kdeplot(dados['salario'], color='green');"
   ]
  },
  {
   "cell_type": "code",
   "execution_count": 9,
   "id": "19d1f6e0-5f0b-4ac1-9903-b2cc5b720e7a",
   "metadata": {},
   "outputs": [
    {
     "data": {
      "image/png": "[encoded data removed]",
      "text/plain": [
       "<Figure size 720x432 with 1 Axes>"
      ]
     },
     "metadata": {
      "needs_background": "light"
     },
     "output_type": "display_data"
    }
   ],
   "source": [
    "# Plotando um gráfico com coluna 'xp'\n",
    "plt.figure(figsize=(10,6))\n",
    "plt.title('Análise da Experiência')\n",
    "sns.kdeplot(dados['xp'], color='green');"
   ]
  },
  {
   "cell_type": "code",
   "execution_count": 10,
   "id": "c9af59d0-c903-4a61-9e1a-5642cd191350",
   "metadata": {},
   "outputs": [
    {
     "data": {
      "text/plain": [
       "<AxesSubplot:xlabel='salario', ylabel='xp'>"
      ]
     },
     "execution_count": 10,
     "metadata": {},
     "output_type": "execute_result"
    },
    {
     "data": {
      "image/png": "[encoded data removed]",
      "text/plain": [
       "<Figure size 720x432 with 1 Axes>"
      ]
     },
     "metadata": {
      "needs_background": "light"
     },
     "output_type": "display_data"
    }
   ],
   "source": [
    "# Plotando um gráfico simples de distribuição para entendermos a correlação entre xp e salário\n",
    "plt.figure(figsize=(10,6))\n",
    "sns.scatterplot(data=dados, x='salario', y='xp')"
   ]
  },
  {
   "cell_type": "code",
   "execution_count": 11,
   "id": "7fdd8bae-ad7e-4b70-9fb6-5c935d8b6bff",
   "metadata": {},
   "outputs": [
    {
     "data": {
      "image/png": "[encoded data removed]",
      "text/plain": [
       "<Figure size 720x432 with 1 Axes>"
      ]
     },
     "metadata": {
      "needs_background": "light"
     },
     "output_type": "display_data"
    }
   ],
   "source": [
    "# Linha de Regressão\n",
    "plt.figure(figsize=(10,6))\n",
    "sns.regplot(data=dados, x='salario', y='xp');"
   ]
  },
  {
   "cell_type": "code",
   "execution_count": 12,
   "id": "91580237-129c-49eb-82c2-5ec7f416c58c",
   "metadata": {},
   "outputs": [
    {
     "data": {
      "image/png": "[encoded data removed]",
      "text/plain": [
       "<Figure size 720x432 with 1 Axes>"
      ]
     },
     "metadata": {
      "needs_background": "light"
     },
     "output_type": "display_data"
    }
   ],
   "source": [
    "# Verificando a correlação das variáveis\n",
    "plt.figure(figsize=(10,6))\n",
    "correlacao = dados.corr()\n",
    "sns.heatmap(correlacao, annot=True, cbar=False);"
   ]
  },
  {
   "cell_type": "markdown",
   "id": "5b363c0e-42e6-4afe-bb7a-77c690e5dff6",
   "metadata": {},
   "source": [
    "Analisando a primeira parte do estudo, foi verificado que o grau de correlação entre salárioe xp é mais próximo do zero, por isso não necessariamente o quanto mais tempo de experiência, maior o salário.\n",
    "\n",
    "Por esse motivo, decidi fazer uma segunda parte do estudo verificando se o grau de instrução das pessoas tem um peso maior no valor dos salários."
   ]
  },
  {
   "cell_type": "code",
   "execution_count": 13,
   "id": "0589abae-d739-4860-845b-0b9d37531538",
   "metadata": {},
   "outputs": [
    {
     "data": {
      "text/plain": [
       "array(['Ensino técnico', 'Superior incompleto', 'Mestre',\n",
       "       'Superior completo', 'Doutor', 'Especialização', 'Pós graduação'],\n",
       "      dtype=object)"
      ]
     },
     "execution_count": 13,
     "metadata": {},
     "output_type": "execute_result"
    }
   ],
   "source": [
    "# Verificando os valores únicos da coluna 'escolaridade'\n",
    "dados['escolaridade'].unique()"
   ]
  },
  {
   "cell_type": "code",
   "execution_count": 14,
   "id": "a3ea14a6-297d-44e4-ba70-e11e8d0129a0",
   "metadata": {},
   "outputs": [
    {
     "data": {
      "text/html": [
       "<div>\n",
       "<style scoped>\n",
       "    .dataframe tbody tr th:only-of-type {\n",
       "        vertical-align: middle;\n",
       "    }\n",
       "\n",
       "    .dataframe tbody tr th {\n",
       "        vertical-align: top;\n",
       "    }\n",
       "\n",
       "    .dataframe thead th {\n",
       "        text-align: right;\n",
       "    }\n",
       "</style>\n",
       "<table border=\"1\" class=\"dataframe\">\n",
       "  <thead>\n",
       "    <tr style=\"text-align: right;\">\n",
       "      <th></th>\n",
       "      <th>colaborador</th>\n",
       "      <th>genero</th>\n",
       "      <th>data_nascimento</th>\n",
       "      <th>data_de_admissao</th>\n",
       "      <th>escolaridade</th>\n",
       "      <th>cargo</th>\n",
       "      <th>setor</th>\n",
       "      <th>salario</th>\n",
       "      <th>hoje</th>\n",
       "      <th>xp</th>\n",
       "      <th>escolaridade_nivel</th>\n",
       "    </tr>\n",
       "    <tr>\n",
       "      <th>ID</th>\n",
       "      <th></th>\n",
       "      <th></th>\n",
       "      <th></th>\n",
       "      <th></th>\n",
       "      <th></th>\n",
       "      <th></th>\n",
       "      <th></th>\n",
       "      <th></th>\n",
       "      <th></th>\n",
       "      <th></th>\n",
       "      <th></th>\n",
       "    </tr>\n",
       "  </thead>\n",
       "  <tbody>\n",
       "    <tr>\n",
       "      <th>1</th>\n",
       "      <td>Leila Diniz</td>\n",
       "      <td>Feminino</td>\n",
       "      <td>1989-08-17</td>\n",
       "      <td>2011-10-02</td>\n",
       "      <td>Ensino técnico</td>\n",
       "      <td>Administrador</td>\n",
       "      <td>Administrativo</td>\n",
       "      <td>4500</td>\n",
       "      <td>2022-11-16</td>\n",
       "      <td>11.131507</td>\n",
       "      <td>1</td>\n",
       "    </tr>\n",
       "    <tr>\n",
       "      <th>3</th>\n",
       "      <td>Margaret Thatcher</td>\n",
       "      <td>Feminino</td>\n",
       "      <td>1981-04-18</td>\n",
       "      <td>2012-08-24</td>\n",
       "      <td>Superior incompleto</td>\n",
       "      <td>Analista Administrativo</td>\n",
       "      <td>Administrativo</td>\n",
       "      <td>1900</td>\n",
       "      <td>2022-11-16</td>\n",
       "      <td>10.235616</td>\n",
       "      <td>2</td>\n",
       "    </tr>\n",
       "    <tr>\n",
       "      <th>41</th>\n",
       "      <td>Cicero L. Lima</td>\n",
       "      <td>Masculino</td>\n",
       "      <td>1983-01-28</td>\n",
       "      <td>2013-12-19</td>\n",
       "      <td>Mestre</td>\n",
       "      <td>Analista Administrativo</td>\n",
       "      <td>Administrativo</td>\n",
       "      <td>1900</td>\n",
       "      <td>2022-11-16</td>\n",
       "      <td>8.915068</td>\n",
       "      <td>3</td>\n",
       "    </tr>\n",
       "    <tr>\n",
       "      <th>4</th>\n",
       "      <td>Eva Perón</td>\n",
       "      <td>Feminino</td>\n",
       "      <td>2002-10-31</td>\n",
       "      <td>2012-11-12</td>\n",
       "      <td>Superior completo</td>\n",
       "      <td>Analista Contábil</td>\n",
       "      <td>Administrativo</td>\n",
       "      <td>2200</td>\n",
       "      <td>2022-11-16</td>\n",
       "      <td>10.016438</td>\n",
       "      <td>4</td>\n",
       "    </tr>\n",
       "    <tr>\n",
       "      <th>42</th>\n",
       "      <td>Caio Soares Modesto</td>\n",
       "      <td>Masculino</td>\n",
       "      <td>1991-06-10</td>\n",
       "      <td>2014-02-20</td>\n",
       "      <td>Doutor</td>\n",
       "      <td>Analista Contábil</td>\n",
       "      <td>Administrativo</td>\n",
       "      <td>2200</td>\n",
       "      <td>2022-11-16</td>\n",
       "      <td>8.742466</td>\n",
       "      <td>5</td>\n",
       "    </tr>\n",
       "    <tr>\n",
       "      <th>8</th>\n",
       "      <td>Simone de Beauvoir</td>\n",
       "      <td>Feminino</td>\n",
       "      <td>1996-09-20</td>\n",
       "      <td>2014-05-08</td>\n",
       "      <td>Especialização</td>\n",
       "      <td>Analista de Departamento Pessoal</td>\n",
       "      <td>Administrativo</td>\n",
       "      <td>3000</td>\n",
       "      <td>2022-11-16</td>\n",
       "      <td>8.531507</td>\n",
       "      <td>6</td>\n",
       "    </tr>\n",
       "    <tr>\n",
       "      <th>46</th>\n",
       "      <td>Flávio  Alberto</td>\n",
       "      <td>Masculino</td>\n",
       "      <td>1982-11-12</td>\n",
       "      <td>2015-02-26</td>\n",
       "      <td>Superior completo</td>\n",
       "      <td>Analista de Departamento Pessoal</td>\n",
       "      <td>Administrativo</td>\n",
       "      <td>3000</td>\n",
       "      <td>2022-11-16</td>\n",
       "      <td>7.726027</td>\n",
       "      <td>4</td>\n",
       "    </tr>\n",
       "    <tr>\n",
       "      <th>16</th>\n",
       "      <td>Madame Curie</td>\n",
       "      <td>Feminino</td>\n",
       "      <td>1990-06-19</td>\n",
       "      <td>2015-05-21</td>\n",
       "      <td>Ensino técnico</td>\n",
       "      <td>Analista Financeiro</td>\n",
       "      <td>Administrativo</td>\n",
       "      <td>1800</td>\n",
       "      <td>2022-11-16</td>\n",
       "      <td>7.495890</td>\n",
       "      <td>1</td>\n",
       "    </tr>\n",
       "    <tr>\n",
       "      <th>54</th>\n",
       "      <td>Lucas  Amado</td>\n",
       "      <td>Masculino</td>\n",
       "      <td>1993-06-20</td>\n",
       "      <td>2016-01-06</td>\n",
       "      <td>Pós graduação</td>\n",
       "      <td>Analista Financeiro</td>\n",
       "      <td>Administrativo</td>\n",
       "      <td>1800</td>\n",
       "      <td>2022-11-16</td>\n",
       "      <td>6.865753</td>\n",
       "      <td>7</td>\n",
       "    </tr>\n",
       "    <tr>\n",
       "      <th>36</th>\n",
       "      <td>Angelo Roberto Paterno</td>\n",
       "      <td>Masculino</td>\n",
       "      <td>1980-09-05</td>\n",
       "      <td>2011-05-09</td>\n",
       "      <td>Especialização</td>\n",
       "      <td>Assistente Administrativo</td>\n",
       "      <td>Administrativo</td>\n",
       "      <td>5000</td>\n",
       "      <td>2022-11-16</td>\n",
       "      <td>11.531507</td>\n",
       "      <td>6</td>\n",
       "    </tr>\n",
       "  </tbody>\n",
       "</table>\n",
       "</div>"
      ],
      "text/plain": [
       "               colaborador     genero data_nascimento data_de_admissao  \\\n",
       "ID                                                                       \n",
       "1              Leila Diniz   Feminino      1989-08-17       2011-10-02   \n",
       "3        Margaret Thatcher   Feminino      1981-04-18       2012-08-24   \n",
       "41          Cicero L. Lima  Masculino      1983-01-28       2013-12-19   \n",
       "4                Eva Perón   Feminino      2002-10-31       2012-11-12   \n",
       "42     Caio Soares Modesto  Masculino      1991-06-10       2014-02-20   \n",
       "8       Simone de Beauvoir   Feminino      1996-09-20       2014-05-08   \n",
       "46        Flávio  Alberto   Masculino      1982-11-12       2015-02-26   \n",
       "16            Madame Curie   Feminino      1990-06-19       2015-05-21   \n",
       "54           Lucas  Amado   Masculino      1993-06-20       2016-01-06   \n",
       "36  Angelo Roberto Paterno  Masculino      1980-09-05       2011-05-09   \n",
       "\n",
       "           escolaridade                             cargo           setor  \\\n",
       "ID                                                                          \n",
       "1        Ensino técnico                     Administrador  Administrativo   \n",
       "3   Superior incompleto           Analista Administrativo  Administrativo   \n",
       "41               Mestre           Analista Administrativo  Administrativo   \n",
       "4     Superior completo                 Analista Contábil  Administrativo   \n",
       "42               Doutor                 Analista Contábil  Administrativo   \n",
       "8        Especialização  Analista de Departamento Pessoal  Administrativo   \n",
       "46    Superior completo  Analista de Departamento Pessoal  Administrativo   \n",
       "16       Ensino técnico               Analista Financeiro  Administrativo   \n",
       "54        Pós graduação               Analista Financeiro  Administrativo   \n",
       "36       Especialização         Assistente Administrativo  Administrativo   \n",
       "\n",
       "    salario       hoje         xp  escolaridade_nivel  \n",
       "ID                                                     \n",
       "1      4500 2022-11-16  11.131507                   1  \n",
       "3      1900 2022-11-16  10.235616                   2  \n",
       "41     1900 2022-11-16   8.915068                   3  \n",
       "4      2200 2022-11-16  10.016438                   4  \n",
       "42     2200 2022-11-16   8.742466                   5  \n",
       "8      3000 2022-11-16   8.531507                   6  \n",
       "46     3000 2022-11-16   7.726027                   4  \n",
       "16     1800 2022-11-16   7.495890                   1  \n",
       "54     1800 2022-11-16   6.865753                   7  \n",
       "36     5000 2022-11-16  11.531507                   6  "
      ]
     },
     "execution_count": 14,
     "metadata": {},
     "output_type": "execute_result"
    }
   ],
   "source": [
    "# Categorizando os niveis de escolaridade de 1 a 7\n",
    "\n",
    "dados['escolaridade_nivel'] = dados.escolaridade.map({'Ensino técnico':1, 'Superior incompleto':2, 'Mestre':3, 'Superior completo':4, 'Doutor':5,\n",
    "                                                   'Especialização':6, 'Pós graduação':7})\n",
    "dados.head(10)"
   ]
  },
  {
   "cell_type": "code",
   "execution_count": 21,
   "id": "00c83fde-c789-45b9-96e2-dc4989bd69b1",
   "metadata": {},
   "outputs": [
    {
     "data": {
      "text/plain": [
       "<AxesSubplot:xlabel='salario', ylabel='escolaridade_nivel'>"
      ]
     },
     "execution_count": 21,
     "metadata": {},
     "output_type": "execute_result"
    },
    {
     "data": {
      "image/png": "[encoded data removed]",
      "text/plain": [
       "<Figure size 720x432 with 1 Axes>"
      ]
     },
     "metadata": {
      "needs_background": "light"
     },
     "output_type": "display_data"
    }
   ],
   "source": [
    "# Plotando um gráfico simples de distribuição para entendermos a correlação entre xp e salário\n",
    "plt.figure(figsize=(10,6))\n",
    "sns.scatterplot(data=dados, x='salario', y='escolaridade_nivel')"
   ]
  },
  {
   "cell_type": "code",
   "execution_count": 22,
   "id": "60f22e39-6547-4b13-a1df-7148fcae424b",
   "metadata": {},
   "outputs": [
    {
     "data": {
      "text/html": [
       "<div>\n",
       "<style scoped>\n",
       "    .dataframe tbody tr th:only-of-type {\n",
       "        vertical-align: middle;\n",
       "    }\n",
       "\n",
       "    .dataframe tbody tr th {\n",
       "        vertical-align: top;\n",
       "    }\n",
       "\n",
       "    .dataframe thead th {\n",
       "        text-align: right;\n",
       "    }\n",
       "</style>\n",
       "<table border=\"1\" class=\"dataframe\">\n",
       "  <thead>\n",
       "    <tr style=\"text-align: right;\">\n",
       "      <th></th>\n",
       "      <th>salario</th>\n",
       "      <th>xp</th>\n",
       "      <th>escolaridade_nivel</th>\n",
       "    </tr>\n",
       "  </thead>\n",
       "  <tbody>\n",
       "    <tr>\n",
       "      <th>salario</th>\n",
       "      <td>1.000000</td>\n",
       "      <td>0.353529</td>\n",
       "      <td>0.097782</td>\n",
       "    </tr>\n",
       "    <tr>\n",
       "      <th>xp</th>\n",
       "      <td>0.353529</td>\n",
       "      <td>1.000000</td>\n",
       "      <td>0.046676</td>\n",
       "    </tr>\n",
       "    <tr>\n",
       "      <th>escolaridade_nivel</th>\n",
       "      <td>0.097782</td>\n",
       "      <td>0.046676</td>\n",
       "      <td>1.000000</td>\n",
       "    </tr>\n",
       "  </tbody>\n",
       "</table>\n",
       "</div>"
      ],
      "text/plain": [
       "                     salario        xp  escolaridade_nivel\n",
       "salario             1.000000  0.353529            0.097782\n",
       "xp                  0.353529  1.000000            0.046676\n",
       "escolaridade_nivel  0.097782  0.046676            1.000000"
      ]
     },
     "execution_count": 22,
     "metadata": {},
     "output_type": "execute_result"
    }
   ],
   "source": [
    "dados.corr()"
   ]
  },
  {
   "cell_type": "code",
   "execution_count": 23,
   "id": "837d068c-e73e-4093-abaf-8f57f11b3051",
   "metadata": {},
   "outputs": [
    {
     "data": {
      "image/png": "[encoded data removed]",
      "text/plain": [
       "<Figure size 720x432 with 1 Axes>"
      ]
     },
     "metadata": {
      "needs_background": "light"
     },
     "output_type": "display_data"
    }
   ],
   "source": [
    "# Criando uma matriz de correlação agora também com a variável 'escolaridade'\n",
    "\n",
    "plt.figure(figsize=(10,6))\n",
    "correlacao2 = dados.corr()\n",
    "sns.heatmap(correlacao2, annot=True, cbar=False);"
   ]
  },
  {
   "cell_type": "markdown",
   "id": "d65458d9-5746-4421-8dd6-7a23d164d091",
   "metadata": {},
   "source": [
    "# Resultado do Estudo"
   ]
  },
  {
   "cell_type": "markdown",
   "id": "275cb279-1675-4e71-95c9-198b72f8f5fa",
   "metadata": {},
   "source": [
    " - Pelo nosso resultado da matriz de correlação, podemos afirmar que  por muitas vezes que correlação não é causalidade, embora nosso estudo demonstre que exista uma tendência maior de que quanto maior o nível de escolaridade, maior é o salário do colaborador, empresas que geralmente não possuem um plano de cargos e salários bem definidos acabam 'perdidas' na definicação das regras entre o que deve ser pago a cada colaborador de acordo com os anos de casa com seu nível de escolaridade.\n"
   ]
  },
  {
   "cell_type": "markdown",
   "id": "041217e5-3286-46ac-8408-8441e954101d",
   "metadata": {},
   "source": []
  }
 ],
 "metadata": {
  "kernelspec": {
   "display_name": "Python 3",
   "language": "python",
   "name": "python3"
  },
  "language_info": {
   "codemirror_mode": {
    "name": "ipython",
    "version": 3
   },
   "file_extension": ".py",
   "mimetype": "text/x-python",
   "name": "python",
   "nbconvert_exporter": "python",
   "pygments_lexer": "ipython3",
   "version": "3.8.8"
  }
 },
 "nbformat": 4,
 "nbformat_minor": 5
}
